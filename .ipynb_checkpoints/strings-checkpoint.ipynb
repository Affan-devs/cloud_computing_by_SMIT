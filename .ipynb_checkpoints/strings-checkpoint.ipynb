{
 "cells": [
  {
   "cell_type": "code",
   "execution_count": 1,
   "id": "6a777934-e899-43d8-8046-10ff5dc62f39",
   "metadata": {
    "scrolled": true
   },
   "outputs": [
    {
     "name": "stdin",
     "output_type": "stream",
     "text": [
      "Enter a string:  affan zubair student at smit\n"
     ]
    },
    {
     "name": "stdout",
     "output_type": "stream",
     "text": [
      "Number of vowels in the input string: 9\n"
     ]
    }
   ],
   "source": [
    "\n",
    "def count_vowels(string):\n",
    "    vowels = \"aeiouAEIOU\"\n",
    "    count = sum(1 for char in string if char in vowels)\n",
    "    return count\n",
    "user_input = input(\"Enter a string: \")\n",
    "\n",
    "vowel_count = count_vowels(user_input)\n",
    "\n",
    "print(f\"Number of vowels in the input string: {vowel_count}\")\n"
   ]
  },
  {
   "cell_type": "code",
   "execution_count": 15,
   "id": "e95ab213-d750-4a61-9dfa-5485f334dda0",
   "metadata": {},
   "outputs": [
    {
     "name": "stdin",
     "output_type": "stream",
     "text": [
      "add your name affan\n"
     ]
    },
    {
     "name": "stdout",
     "output_type": "stream",
     "text": [
      "AFFAN\n"
     ]
    },
    {
     "name": "stdin",
     "output_type": "stream",
     "text": [
      "add your fathername zubair\n"
     ]
    },
    {
     "name": "stdout",
     "output_type": "stream",
     "text": [
      "zubair\n"
     ]
    },
    {
     "name": "stdin",
     "output_type": "stream",
     "text": [
      "add your mothername 22\n"
     ]
    },
    {
     "name": "stdout",
     "output_type": "stream",
     "text": [
      "22\n",
      "your fullname AFFAN  zubair\n"
     ]
    }
   ],
   "source": [
    "name = input(\"add your name\").upper()\n",
    "print(name)\n",
    "\n",
    "fathername = input(\"add your fathername\").lower()\n",
    "print(fathername)\n",
    "\n",
    "age = int(input(\"add your age\"))\n",
    "print(age)\n",
    "\n",
    "print(\"your fullname\", name, \"\", fathername)"
   ]
  },
  {
   "cell_type": "code",
   "execution_count": 16,
   "id": "3b1dbeba-7542-4320-b4d9-bb9889b4850c",
   "metadata": {},
   "outputs": [
    {
     "name": "stdout",
     "output_type": "stream",
     "text": [
      "dlroW olleH\n"
     ]
    }
   ],
   "source": [
    "text = \"Hello World\"[::-1]\n",
    "print(text)"
   ]
  },
  {
   "cell_type": "code",
   "execution_count": 22,
   "id": "2b6fcb01-24ed-4949-afb0-fef980529bf8",
   "metadata": {},
   "outputs": [
    {
     "name": "stdin",
     "output_type": "stream",
     "text": [
      "Enter your first name, middle name, and last name:  jsej\n"
     ]
    },
    {
     "name": "stdout",
     "output_type": "stream",
     "text": [
      "Your initials are: J\n"
     ]
    }
   ],
   "source": [
    "# taking input from user \n",
    "# first we will think what are the \n",
    "def get_initials(name):\n",
    "    initials = name[0].upper()  \n",
    "    for i in range(1, len(name)):  \n",
    "        if name[i - 1] == ' ':  \n",
    "            initials += name[i].upper()\n",
    "    return initials\n",
    "\n",
    "full_name = input(\"Enter your first name, middle name, and last name: \")\n",
    "\n",
    "print(\"Your initials are:\", get_initials(full_name))\n"
   ]
  },
  {
   "cell_type": "code",
   "execution_count": 26,
   "id": "17f16862-c669-4a7c-b17e-ec6ad34e30c2",
   "metadata": {},
   "outputs": [
    {
     "name": "stdout",
     "output_type": "stream",
     "text": [
      "palindrome\n"
     ]
    }
   ],
   "source": [
    "radar = \"madam\"\n",
    "if radar == radar[::-1]:\n",
    "    print(\"palindrome\")\n",
    "else: \n",
    "    print(\"this is not palindrome\")"
   ]
  },
  {
   "cell_type": "code",
   "execution_count": 5,
   "id": "878ba3cb-127d-420a-9f32-2cd74a0a6b07",
   "metadata": {},
   "outputs": [
    {
     "ename": "IndentationError",
     "evalue": "unindent does not match any outer indentation level (<string>, line 9)",
     "output_type": "error",
     "traceback": [
      "\u001b[1;36m  File \u001b[1;32m<string>:9\u001b[1;36m\u001b[0m\n\u001b[1;33m    elif not char.isdigit():\u001b[0m\n\u001b[1;37m                            ^\u001b[0m\n\u001b[1;31mIndentationError\u001b[0m\u001b[1;31m:\u001b[0m unindent does not match any outer indentation level\n"
     ]
    }
   ],
   "source": [
    "password= input(\"Enter strong password\")\n",
    "if len(password >=8):\n",
    "    print(\"Enter more then 8  letters\")\n",
    "    for char in password:\n",
    "         if not char.isupper()\n",
    "            print(\"there should be one capital letter\")\n",
    "    elif  not char.islower():\n",
    "            print(\"There should be one lower letter\")\n",
    "        elif not char.isdigit():\n",
    "            print(\"There should be One number\")\n",
    "else:\n",
    "    print(\"Your password succefully save \", password)"
   ]
  },
  {
   "cell_type": "code",
   "execution_count": null,
   "id": "8843b5cd-66d6-4222-960b-463db602b6c9",
   "metadata": {},
   "outputs": [],
   "source": [
    "dict_bio ={\n",
    "    [\"first_name\":\"affan\"]\n",
    "    \n",
    "}"
   ]
  }
 ],
 "metadata": {
  "kernelspec": {
   "display_name": "Python 3 (ipykernel)",
   "language": "python",
   "name": "python3"
  },
  "language_info": {
   "codemirror_mode": {
    "name": "ipython",
    "version": 3
   },
   "file_extension": ".py",
   "mimetype": "text/x-python",
   "name": "python",
   "nbconvert_exporter": "python",
   "pygments_lexer": "ipython3",
   "version": "3.12.7"
  }
 },
 "nbformat": 4,
 "nbformat_minor": 5
}
