{
 "cells": [
  {
   "cell_type": "code",
   "execution_count": 11,
   "id": "f67b3b53-0300-4ee0-ae72-e698afcd86c4",
   "metadata": {},
   "outputs": [],
   "source": [
    "###1"
   ]
  },
  {
   "cell_type": "code",
   "execution_count": 21,
   "id": "9a0e1c4e-e3e5-4fe9-b58c-1df70c135651",
   "metadata": {},
   "outputs": [
    {
     "name": "stdin",
     "output_type": "stream",
     "text": [
      "Enter elements separated by space:  hello affan zubair \n"
     ]
    },
    {
     "name": "stdout",
     "output_type": "stream",
     "text": [
      "hello zubair "
     ]
    }
   ],
   "source": [
    "list = input(\"Enter elements separated by space: \").split()\n",
    "for char in range(0, len(list), 2):\n",
    "    print(list[char], end=\" \")"
   ]
  },
  {
   "cell_type": "code",
   "execution_count": 12,
   "id": "b84ba9ce-f633-46c3-8685-40a3cdbc8da9",
   "metadata": {},
   "outputs": [],
   "source": [
    "###2"
   ]
  },
  {
   "cell_type": "code",
   "execution_count": 53,
   "id": "3490ebdf-0849-44b3-bbfe-4fa4de9a445e",
   "metadata": {},
   "outputs": [
    {
     "name": "stdin",
     "output_type": "stream",
     "text": [
      "Enter elements separated by space:  affan\n"
     ]
    },
    {
     "name": "stdout",
     "output_type": "stream",
     "text": [
      "naffa\n"
     ]
    }
   ],
   "source": [
    "list = input(\"Enter elements separated by space: \")\n",
    "newlist = list[::-1]\n",
    "print(newlist)"
   ]
  },
  {
   "cell_type": "code",
   "execution_count": 46,
   "id": "cecd23a8-33a6-48f9-8c63-cd18a03c74a6",
   "metadata": {},
   "outputs": [],
   "source": [
    "###3"
   ]
  },
  {
   "cell_type": "code",
   "execution_count": 45,
   "id": "58317abe-e319-4048-96a4-27f4ff327b47",
   "metadata": {},
   "outputs": [
    {
     "name": "stdin",
     "output_type": "stream",
     "text": [
      "Enter numbers separated by space:  55 66 88 999 66 \n"
     ]
    },
    {
     "name": "stdout",
     "output_type": "stream",
     "text": [
      "Largest number is: 999\n"
     ]
    }
   ],
   "source": [
    "list = input(\"Enter numbers separated by space: \").split()\n",
    "largest = int(list[0])\n",
    "\n",
    "for integer in range(len(list)):\n",
    "    if int(list[integer]) > largest:\n",
    "        largest = int(list[integer])\n",
    "\n",
    "print(\"Largest number is:\", largest)"
   ]
  },
  {
   "cell_type": "code",
   "execution_count": 47,
   "id": "8b1a3d77-7e5e-41c6-8967-6b0a8a45b4a7",
   "metadata": {},
   "outputs": [],
   "source": [
    "###4"
   ]
  },
  {
   "cell_type": "code",
   "execution_count": null,
   "id": "b5c75332-3293-4afe-a6d6-f85669071bda",
   "metadata": {},
   "outputs": [],
   "source": [
    "list = input(\"Enter elements separated by space: \").split()\n",
    "newlist = list[::-1]\n",
    "print(newlist)"
   ]
  },
  {
   "cell_type": "code",
   "execution_count": 54,
   "id": "cbd7636f-411d-45e3-838a-6a6cf1dd16c0",
   "metadata": {},
   "outputs": [],
   "source": [
    "###5"
   ]
  },
  {
   "cell_type": "code",
   "execution_count": 55,
   "id": "ebc5de11-7e3b-4071-9c07-e633a1fa2ccc",
   "metadata": {},
   "outputs": [
    {
     "name": "stdin",
     "output_type": "stream",
     "text": [
      "Enter elements separated by space:  affan banana apple \n"
     ]
    },
    {
     "name": "stdout",
     "output_type": "stream",
     "text": [
      "Your list: ['affan', 'banana', 'apple']\n"
     ]
    },
    {
     "name": "stdin",
     "output_type": "stream",
     "text": [
      "Enter element you want to delete:  apple\n"
     ]
    },
    {
     "name": "stdout",
     "output_type": "stream",
     "text": [
      "Element deleted successfully!\n",
      "Updated list: ['affan', 'banana']\n"
     ]
    }
   ],
   "source": [
    "# take input of list from user \n",
    "# ask which list elements he want to delete \n",
    "# make a if else satement if element exsit then list.remove and print list \n",
    "# if element not exist then execute else statement \n",
    "\n",
    "list = input(\"Enter elements separated by space: \").split()\n",
    "print(\"Your list:\", list)\n",
    "\n",
    "element = input(\"Enter element you want to delete: \")\n",
    "\n",
    "if element in list:\n",
    "    list.remove(element)\n",
    "    print(\"Element deleted successfully!\")\n",
    "else:\n",
    "    print(\"Element not found in the list!\")\n",
    "\n",
    "print(\"Updated list:\", list)"
   ]
  },
  {
   "cell_type": "code",
   "execution_count": 56,
   "id": "de7b882a-6c01-4bd4-8e1c-576fc9f29adc",
   "metadata": {},
   "outputs": [],
   "source": [
    "### 6"
   ]
  },
  {
   "cell_type": "code",
   "execution_count": 57,
   "id": "7d57e82e-6df8-4c31-8d3c-b5b89e9edc4d",
   "metadata": {},
   "outputs": [
    {
     "name": "stdin",
     "output_type": "stream",
     "text": [
      "Enter date (mm/dd/yyyy):  2 5 1234\n"
     ]
    },
    {
     "name": "stdout",
     "output_type": "stream",
     "text": [
      "February 1 , 34\n"
     ]
    }
   ],
   "source": [
    "date = input(\"Enter date (mm/dd/yyyy): \")\n",
    "\n",
    "month = int(date[:2])\n",
    "day = int(date[3:5])\n",
    "year = date[6:]\n",
    "\n",
    "months = [\"January\", \"February\", \"March\", \"April\", \"May\", \"June\", \"July\", \n",
    "          \"August\", \"September\", \"October\", \"November\", \"December\"]\n",
    "\n",
    "print(months[month-1], day, \",\", year)"
   ]
  },
  {
   "cell_type": "code",
   "execution_count": 59,
   "id": "7aa07260-4665-45dc-ae19-ead6384e6fa0",
   "metadata": {},
   "outputs": [],
   "source": [
    "###7"
   ]
  },
  {
   "cell_type": "code",
   "execution_count": 68,
   "id": "cbebc0fe-a730-4e68-90da-2245928f090f",
   "metadata": {},
   "outputs": [
    {
     "name": "stdin",
     "output_type": "stream",
     "text": [
      "Enter a string:  affan zubair \n"
     ]
    },
    {
     "name": "stdout",
     "output_type": "stream",
     "text": [
      "Affan Zubair \n"
     ]
    }
   ],
   "source": [
    "def capitalize_words(sentence):\n",
    "    result = \"\"\n",
    "    capitalize_next = True\n",
    "    \n",
    "    for char in range(len(sentence)):\n",
    "        if capitalize_next and sentence[char] != ' ':\n",
    "            result += sentence[char].upper()\n",
    "            capitalize_next = False\n",
    "        elif sentence[char] == ' ':\n",
    "            result += ' '\n",
    "            capitalize_next = True\n",
    "        else:\n",
    "            result += sentence[char]\n",
    "            \n",
    "    return result\n",
    "\n",
    "text = input(\"Enter a string: \")\n",
    "print(capitalize_words(text))"
   ]
  },
  {
   "cell_type": "code",
   "execution_count": 69,
   "id": "68d6f6a4-9987-4515-addd-bbc890d30c64",
   "metadata": {},
   "outputs": [],
   "source": [
    "###8"
   ]
  },
  {
   "cell_type": "code",
   "execution_count": null,
   "id": "f6d3673b-186f-4e52-83e5-d529205103a1",
   "metadata": {},
   "outputs": [],
   "source": [
    "m = int(input(\"Enter rows: \"))\n",
    "n = int(input(\"Enter columns: \"))\n",
    "matrix = []\n",
    "\n",
    "for i in range(m):\n",
    "    row = []\n",
    "    for j in range(n):\n",
    "        val = int(input(\"Enter value: \"))\n",
    "        row.append(val)\n",
    "    matrix.append(row)\n",
    "\n",
    "for i in range(m):\n",
    "    sum = 0\n",
    "    for j in range(n):\n",
    "        sum = sum + matrix[i][j]\n",
    "    print(\"Sum of row\", i+1, \"=\", sum)"
   ]
  },
  {
   "cell_type": "code",
   "execution_count": 70,
   "id": "55bab861-e056-46ac-821b-2622626daf41",
   "metadata": {},
   "outputs": [],
   "source": [
    "# ###9"
   ]
  },
  {
   "cell_type": "code",
   "execution_count": null,
   "id": "31f44a87-90e5-4c70-92ba-c2c89e7da872",
   "metadata": {},
   "outputs": [],
   "source": [
    "n = int(input(\"Enter rows: \"))  \n",
    "m = int(input(\"Enter columns: \"))  \n",
    "\n",
    "\n",
    "print(\"Enter first matrix:\")  \n",
    "matrix1 = [[int(input()) for _ in range(m)] for _ in range(n)]  \n",
    "\n",
    "print(\"Enter second matrix:\")  \n",
    "matrix2 = [[int(input()) for _ in range(m)] for _ in range(n)]  \n",
    "\n",
    "result = [[matrix1[i][j] + matrix2[i][j] for j in range(m)] for i in range(n)]  \n",
    "\n",
    "print(\"Result matrix:\")  \n",
    "for row in result:  \n",
    "    print(row)\n"
   ]
  }
 ],
 "metadata": {
  "kernelspec": {
   "display_name": "Python 3 (ipykernel)",
   "language": "python",
   "name": "python3"
  },
  "language_info": {
   "codemirror_mode": {
    "name": "ipython",
    "version": 3
   },
   "file_extension": ".py",
   "mimetype": "text/x-python",
   "name": "python",
   "nbconvert_exporter": "python",
   "pygments_lexer": "ipython3",
   "version": "3.12.7"
  }
 },
 "nbformat": 4,
 "nbformat_minor": 5
}
