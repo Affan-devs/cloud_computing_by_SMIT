{
 "cells": [
  {
   "cell_type": "code",
   "execution_count": 30,
   "id": "20356d17-a8ed-4bbf-bb63-9c21faa4857b",
   "metadata": {},
   "outputs": [],
   "source": [
    "# 1."
   ]
  },
  {
   "cell_type": "code",
   "execution_count": 1,
   "id": "6a777934-e899-43d8-8046-10ff5dc62f39",
   "metadata": {
    "scrolled": true
   },
   "outputs": [
    {
     "name": "stdin",
     "output_type": "stream",
     "text": [
      "Enter a string:  affan zubair student at smit\n"
     ]
    },
    {
     "name": "stdout",
     "output_type": "stream",
     "text": [
      "Number of vowels in the input string: 9\n"
     ]
    }
   ],
   "source": [
    "\n",
    "def count_vowels(string):\n",
    "    vowels = \"aeiouAEIOU\"\n",
    "    count = sum(1 for char in string if char in vowels)\n",
    "    return count\n",
    "user_input = input(\"Enter a string: \")\n",
    "\n",
    "vowel_count = count_vowels(user_input)\n",
    "\n",
    "print(f\"Number of vowels in the input string: {vowel_count}\")\n"
   ]
  },
  {
   "cell_type": "code",
   "execution_count": 34,
   "id": "fb1fde45-c3d7-4e2c-a13f-335a34930e4d",
   "metadata": {},
   "outputs": [],
   "source": [
    "### 2"
   ]
  },
  {
   "cell_type": "code",
   "execution_count": 26,
   "id": "e95ab213-d750-4a61-9dfa-5485f334dda0",
   "metadata": {},
   "outputs": [
    {
     "name": "stdin",
     "output_type": "stream",
     "text": [
      "Enter about your self: affan34 hello34\n"
     ]
    },
    {
     "name": "stdout",
     "output_type": "stream",
     "text": [
      "Your string : (0, 10, 4, 1)\n"
     ]
    }
   ],
   "source": [
    "# taking  user input \n",
    "# if uppercase exist then count and print it \n",
    "# if lowercase exist then count and print it \n",
    "# if digit exist then count and print it \n",
    "# if spaces  exist then count and print it \n",
    "# if nothing exist then print (your sentence is not a proper sentence)\n",
    "def count_input(string):\n",
    "    uppercase =sum(1 for char in string if char.isupper())\n",
    "    lowercase =sum(1 for char in string if char.islower())\n",
    "    digit =sum(1 for char in string if char.isdigit())\n",
    "    spaces =sum(1 for char in string if char.isspace())\n",
    "    \n",
    "    return uppercase, lowercase, digit, spaces\n",
    "\n",
    "user_input = input(\"Enter about your self:\")\n",
    "count_user_input = count_input(user_input)\n",
    "print(f\"Your string : {count_user_input}\")"
   ]
  },
  {
   "cell_type": "markdown",
   "id": "ded57324-c736-488e-ab7e-b5193d5d932b",
   "metadata": {},
   "source": [
    "### 3.\n"
   ]
  },
  {
   "cell_type": "code",
   "execution_count": 27,
   "id": "3b1dbeba-7542-4320-b4d9-bb9889b4850c",
   "metadata": {},
   "outputs": [
    {
     "name": "stdin",
     "output_type": "stream",
     "text": [
      "Enter a string Hello world\n"
     ]
    },
    {
     "name": "stdout",
     "output_type": "stream",
     "text": [
      "dlrow olleH\n"
     ]
    }
   ],
   "source": [
    "text = input(\"Enter a string\")[::-1]\n",
    "print(text)"
   ]
  },
  {
   "cell_type": "code",
   "execution_count": 42,
   "id": "8e2b8cda-92b0-4c16-9667-47fdce572a50",
   "metadata": {},
   "outputs": [],
   "source": [
    "## 5"
   ]
  },
  {
   "cell_type": "code",
   "execution_count": 41,
   "id": "51920004-af5d-440f-a110-e77c468ce232",
   "metadata": {},
   "outputs": [
    {
     "name": "stdin",
     "output_type": "stream",
     "text": [
      "Enter a sring: hello ji \n"
     ]
    },
    {
     "name": "stdout",
     "output_type": "stream",
     "text": [
      "Your shifted string: hh\n"
     ]
    }
   ],
   "source": [
    "# first we will take input \n",
    "# then we will check if input have more then i char\n",
    "# then make a logic where we wil take all letter from char except 1 letter and  adds the first letter at the end\n",
    "user_input =input(\"Enter a sring:\")\n",
    "if len(user_input) > 1:\n",
    "    shifting_input = user_input[1:] + user_input[0]\n",
    "else:\n",
    "    shifting_input = user_input\n",
    "\n",
    "print(f\"Your shifted string: {shifting_input}\")\n"
   ]
  },
  {
   "cell_type": "code",
   "execution_count": 3,
   "id": "5c15b97d-54f7-4ab7-ac0a-566a7aa04b82",
   "metadata": {},
   "outputs": [],
   "source": [
    "###6"
   ]
  },
  {
   "cell_type": "code",
   "execution_count": 43,
   "id": "2b6fcb01-24ed-4949-afb0-fef980529bf8",
   "metadata": {},
   "outputs": [
    {
     "name": "stdin",
     "output_type": "stream",
     "text": [
      "Enter your first name, middle name, and last name:  affan zubair ji\n"
     ]
    },
    {
     "name": "stdout",
     "output_type": "stream",
     "text": [
      "Your initials are: AZJ\n"
     ]
    }
   ],
   "source": [
    "\n",
    "def get_initials(name):\n",
    "    initials = name[0].upper()  \n",
    "    for char in range(1, len(name)):  \n",
    "        if name[char - 1] == ' ':  \n",
    "            initials += name[char].upper()\n",
    "    return initials\n",
    "\n",
    "full_name = input(\"Enter your first name, middle name, and last name: \")\n",
    "\n",
    "print(\"Your initials are:\", get_initials(full_name))\n"
   ]
  },
  {
   "cell_type": "code",
   "execution_count": 5,
   "id": "5d890ffd-21d4-400a-8151-ad3923381bc6",
   "metadata": {},
   "outputs": [],
   "source": [
    "###7"
   ]
  },
  {
   "cell_type": "code",
   "execution_count": 26,
   "id": "17f16862-c669-4a7c-b17e-ec6ad34e30c2",
   "metadata": {},
   "outputs": [
    {
     "name": "stdout",
     "output_type": "stream",
     "text": [
      "palindrome\n"
     ]
    }
   ],
   "source": [
    "radar = \"madam\"\n",
    "if radar == radar[::-1]:\n",
    "    print(\"palindrome\")\n",
    "else: \n",
    "    print(\"this is not palindrome\")"
   ]
  },
  {
   "cell_type": "code",
   "execution_count": 26,
   "id": "38ad588e-1289-47ec-a4b8-76b822f551e4",
   "metadata": {},
   "outputs": [],
   "source": [
    "###8"
   ]
  },
  {
   "cell_type": "code",
   "execution_count": 20,
   "id": "8843b5cd-66d6-4222-960b-463db602b6c9",
   "metadata": {},
   "outputs": [
    {
     "name": "stdout",
     "output_type": "stream",
     "text": [
      "SHIFT HIFTS IFTSH FTSHI TSHIF "
     ]
    }
   ],
   "source": [
    "def ():\n",
    "    length = len(word)\n",
    "     \n",
    "    for i in range(length):\n",
    "        rotated_word = word[i:] + word[:i]\n",
    "        print(rotated_word, end = \" \")\n",
    "\n",
    "print_rotations(\"SHIFT\")"
   ]
  },
  {
   "cell_type": "code",
   "execution_count": 23,
   "id": "62fe66c5-cdf6-46ee-a8d2-90917600c194",
   "metadata": {},
   "outputs": [],
   "source": [
    "###9"
   ]
  },
  {
   "cell_type": "code",
   "execution_count": 28,
   "id": "878ba3cb-127d-420a-9f32-2cd74a0a6b07",
   "metadata": {},
   "outputs": [
    {
     "name": "stdin",
     "output_type": "stream",
     "text": [
      "Enter strong password 123Affan zubair\n"
     ]
    },
    {
     "name": "stdout",
     "output_type": "stream",
     "text": [
      "Your password successfully save  123Affan zubair\n"
     ]
    }
   ],
   "source": [
    "password= input(\"Enter strong password\")\n",
    "if len(password) < 8:\n",
    "  print(\"Enter more then 8 letters\")\n",
    "elif not any(char.isupper() for char in password):\n",
    "     print(\"Password must contain at least one uppercase letter.\")\n",
    "elif not any(char.islower() for char in password):\n",
    "    print(\"There should be one lower letter\")\n",
    "elif not any(char.isdigit() for char in password):\n",
    "    print(\"There should be One number\")\n",
    "else:\n",
    "    print(\"Your password successfully save \", password)"
   ]
  }
 ],
 "metadata": {
  "kernelspec": {
   "display_name": "Python 3 (ipykernel)",
   "language": "python",
   "name": "python3"
  },
  "language_info": {
   "codemirror_mode": {
    "name": "ipython",
    "version": 3
   },
   "file_extension": ".py",
   "mimetype": "text/x-python",
   "name": "python",
   "nbconvert_exporter": "python",
   "pygments_lexer": "ipython3",
   "version": "3.12.7"
  }
 },
 "nbformat": 4,
 "nbformat_minor": 5
}
